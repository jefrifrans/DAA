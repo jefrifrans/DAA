{
 "cells": [
  {
   "cell_type": "code",
   "execution_count": 11,
   "id": "drawn-assignment",
   "metadata": {},
   "outputs": [
    {
     "name": "stdin",
     "output_type": "stream",
     "text": [
      "Masukkan nilai n:  10\n"
     ]
    },
    {
     "name": "stdout",
     "output_type": "stream",
     "text": [
      "Array sebelum quickSort\n",
      " [4, 2, 16, 15, 18, 1, 11, 19, 10, 5]\n",
      "Array setelah quickSort\n",
      " [1, 2, 4, 5, 10, 11, 15, 16, 18, 19]\n"
     ]
    }
   ],
   "source": [
    "# This Function handles sorting part of quick sort\n",
    "# start and end points to first and last element of\n",
    "# an array respectively\n",
    "import random\n",
    "def partition(start, end, array):\n",
    "     \n",
    "    # Initializing pivot's index to start\n",
    "    pivot_index = start\n",
    "    pivot = array[pivot_index]\n",
    "     \n",
    "    # This loop runs till start pointer crosses\n",
    "    # end pointer, and when it does we swap the\n",
    "    # pivot with element on end pointer\n",
    "    while start < end:\n",
    "         \n",
    "        # Increment the start pointer till it finds an\n",
    "        # element greater than  pivot\n",
    "        while start < len(array) and array[start] <= pivot:\n",
    "            start += 1\n",
    "             \n",
    "        # Decrement the end pointer till it finds an\n",
    "        # element less than pivot\n",
    "        while array[end] > pivot:\n",
    "            end -= 1\n",
    "         \n",
    "        # If start and end have not crossed each other,\n",
    "        # swap the numbers on start and end\n",
    "        if(start < end):\n",
    "            array[start], array[end] = array[end], array[start]\n",
    "     \n",
    "    # Swap pivot element with element on end pointer.\n",
    "    # This puts pivot on its correct sorted place.\n",
    "    array[end], array[pivot_index] = array[pivot_index], array[end]\n",
    "    \n",
    "    # Returning end pointer to divide the array into 2\n",
    "    return end\n",
    "     \n",
    "# The main function that implements QuickSort\n",
    "def quick_sort(start, end, array):\n",
    "     \n",
    "    if (start < end):\n",
    "         \n",
    "        # p is partitioning index, array[p]\n",
    "        # is at right place\n",
    "        p = partition(start, end, array)\n",
    "         \n",
    "        # Sort elements before partition\n",
    "        # and after partition\n",
    "        quick_sort(start, p - 1, array)\n",
    "        quick_sort(p + 1, end, array)\n",
    "if __name__ == '__main__':         \n",
    "    n = int(input('Masukkan nilai n: '))\n",
    "    array = random.sample(range(2*n),n)\n",
    "    print('Array sebelum quickSort\\n',array)\n",
    "    quick_sort(0, len(array) - 1,array)\n",
    "    print('Array setelah quickSort\\n',array)"
   ]
  },
  {
   "cell_type": "code",
   "execution_count": null,
   "id": "difficult-omaha",
   "metadata": {},
   "outputs": [],
   "source": [
    "\n"
   ]
  }
 ],
 "metadata": {
  "kernelspec": {
   "display_name": "Python 3",
   "language": "python",
   "name": "python3"
  },
  "language_info": {
   "codemirror_mode": {
    "name": "ipython",
    "version": 3
   },
   "file_extension": ".py",
   "mimetype": "text/x-python",
   "name": "python",
   "nbconvert_exporter": "python",
   "pygments_lexer": "ipython3",
   "version": "3.7.9"
  }
 },
 "nbformat": 4,
 "nbformat_minor": 5
}
