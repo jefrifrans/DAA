{
 "cells": [
  {
   "cell_type": "code",
   "execution_count": 16,
   "id": "connected-yesterday",
   "metadata": {},
   "outputs": [
    {
     "name": "stdin",
     "output_type": "stream",
     "text": [
      "Masukkan nilai n :  10\n"
     ]
    },
    {
     "name": "stdout",
     "output_type": "stream",
     "text": [
      "array sebelum heapsort\n",
      "[13, 9, 7, 6, 15, 16, 0, 14, 1, 19]\n",
      "Sorted array is\n",
      "[0, 1, 6, 7, 9, 13, 14, 15, 16, 19]\n",
      "--- 3.1277661323547363 seconds ---\n"
     ]
    }
   ],
   "source": [
    "import random\n",
    "import time\n",
    "start_time = time.time()\n",
    "def heapify(array, n, i):\n",
    "    terbesar = i  # Inisilisasi bahwa yg terbesar sebagai 'root'\n",
    "    l = 2 * i + 1     # kiri = 2*i + 1\n",
    "    r = 2 * i + 2     # kanan = 2*i + 2\n",
    "    #badingkan child root bagian kiri apakah terbesar dari index_terbesar\n",
    "    if l < n and array[terbesar] < array[l]:\n",
    "        terbesar = l\n",
    " \n",
    "    # setelah yang kiri maka yang sebelah kanan juga dibandingkan\n",
    "    if r < n and array[terbesar] < array[r]:\n",
    "        terbesar = r\n",
    " \n",
    "    # perubahan 'root' jika diperlukan\n",
    "    if terbesar != i:\n",
    "        array[i], array[terbesar] = array[terbesar], array[i]  # swap\n",
    " \n",
    "        #kembali kedalam fungsi heapfy(array,n,i) tapi root diganti dengan yang baru\n",
    "        heapify(array, n, terbesar)\n",
    " \n",
    " \n",
    "def heapSort(array):\n",
    "    n = len(array)\n",
    " \n",
    "    # membangun maksimum heap\n",
    "    for i in range(n//2 - 1, -1, -1):\n",
    "        heapify(array, n, i)\n",
    " \n",
    "    # ekstrak elemen persatu-satu\n",
    "    for i in range(n-1, 0, -1):\n",
    "        array[i], array[0] = array[0], array[i]  # swap\n",
    "        heapify(array, i, 0)\n",
    " \n",
    " \n",
    "if __name__ == '__main__':\n",
    "    n=int(input(\"Masukkan nilai n : \"))\n",
    "    print('array sebelum heapsort')\n",
    "    array=random.sample(range(2*n),n)\n",
    "    print(array)\n",
    "    \n",
    "    heapSort(array)\n",
    "    n = len(array)\n",
    "    print(\"Sorted array is\")\n",
    "    print(array)\n",
    "    print('--- %s seconds ---' %(time.time()-start_time))"
   ]
  },
  {
   "cell_type": "code",
   "execution_count": null,
   "id": "known-millennium",
   "metadata": {},
   "outputs": [],
   "source": []
  }
 ],
 "metadata": {
  "kernelspec": {
   "display_name": "Python 3",
   "language": "python",
   "name": "python3"
  },
  "language_info": {
   "codemirror_mode": {
    "name": "ipython",
    "version": 3
   },
   "file_extension": ".py",
   "mimetype": "text/x-python",
   "name": "python",
   "nbconvert_exporter": "python",
   "pygments_lexer": "ipython3",
   "version": "3.7.9"
  }
 },
 "nbformat": 4,
 "nbformat_minor": 5
}
