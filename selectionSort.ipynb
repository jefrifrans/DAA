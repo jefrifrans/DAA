{
 "cells": [
  {
   "cell_type": "markdown",
   "id": "quick-stability",
   "metadata": {},
   "source": [
    "The selection sort algorithm sorts an array by repeatedly finding the minimum element (considering ascending order) from unsorted part and putting it at the beginning. The algorithm maintains two subarrays in a given array.\n",
    "1) The subarray which is already sorted. \n",
    "2) Remaining subarray which is unsorted.\n",
    "In every iteration of selection sort, the minimum element (considering ascending order) from the unsorted subarray is picked and moved to the sorted subarray. \n",
    "Following example explains the above steps: \n",
    " "
   ]
  },
  {
   "cell_type": "raw",
   "id": "premier-identity",
   "metadata": {},
   "source": [
    "arr[] = 64 25 12 22 11\n",
    "\n",
    "// Find the minimum element in arr[0...4]\n",
    "// and place it at beginning\n",
    "11 25 12 22 64\n",
    "\n",
    "// Find the minimum element in arr[1...4]\n",
    "// and place it at beginning of arr[1...4]\n",
    "11 12 25 22 64\n",
    "\n",
    "// Find the minimum element in arr[2...4]\n",
    "// and place it at beginning of arr[2...4]\n",
    "11 12 22 25 64\n",
    "\n",
    "// Find the minimum element in arr[3...4]\n",
    "// and place it at beginning of arr[3...4]\n",
    "11 12 22 25 64 \n"
   ]
  },
  {
   "cell_type": "code",
   "execution_count": 7,
   "id": "shared-fantasy",
   "metadata": {},
   "outputs": [
    {
     "name": "stdin",
     "output_type": "stream",
     "text": [
      "Masukkan nilai n :  10\n"
     ]
    },
    {
     "name": "stdout",
     "output_type": "stream",
     "text": [
      "Array sebelum selectionSort\n",
      "[17, 11, 12, 0, 14, 1, 3, 10, 9, 8]\n",
      "Array sesudah selectionSort\n",
      "[0, 1, 3, 8, 9, 10, 11, 12, 14, 17]\n",
      "--- 1.5699706077575684 seconds ---\n"
     ]
    }
   ],
   "source": [
    "import random\n",
    "import time\n",
    "start_time = time.time()\n",
    "\n",
    "def selectionSort(array):\n",
    "    for i in range(n):\n",
    "        terkecil = i\n",
    "        for j in range(i+1, n):\n",
    "            if array[terkecil] > array[j]:\n",
    "                terkecil = j\n",
    "        array[i],array[terkecil] = array[terkecil],array[i]\n",
    "        \n",
    "if __name__ == '__main__' :\n",
    "    n = int(input('Masukkan nilai n : '))\n",
    "    array = random.sample(range(2*n),n)\n",
    "    print('Array sebelum selectionSort')\n",
    "    print (array)\n",
    "    \n",
    "    selectionSort(array)\n",
    "    print('Array sesudah selectionSort')\n",
    "    print(array)\n",
    "    \n",
    "    print('--- %s seconds ---' %(time.time()-start_time))"
   ]
  }
 ],
 "metadata": {
  "kernelspec": {
   "display_name": "Python 3",
   "language": "python",
   "name": "python3"
  },
  "language_info": {
   "codemirror_mode": {
    "name": "ipython",
    "version": 3
   },
   "file_extension": ".py",
   "mimetype": "text/x-python",
   "name": "python",
   "nbconvert_exporter": "python",
   "pygments_lexer": "ipython3",
   "version": "3.7.9"
  }
 },
 "nbformat": 4,
 "nbformat_minor": 5
}
