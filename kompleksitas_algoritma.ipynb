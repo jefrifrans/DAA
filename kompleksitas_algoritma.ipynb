{
 "cells": [
  {
   "cell_type": "markdown",
   "id": "correct-steal",
   "metadata": {},
   "source": [
    "# Kompleksitas Algoritma\n",
    "Sebuah masalah dapat mempunyai banyak algoritma penyelesaian. Contoh: masalah pengurutan (sort), ada puluhan algoritma pengurutan.\n",
    "\n",
    "Sebuah algoritma tidak saja harus benar, tetapi juga harus efisien. Algoritma yang bagus adalah algoritma yang efisien. Efisiensi suatu algoritma diukur dari berapa jumlah waktu dan ruang (space) memori yang dibutuhkan untuk menjalankannya. Algoritma yang efisien adalah algoritma yang meminimumkan kebutuhan waktu dan ruang.\n",
    "\n",
    "Kebutuhan waktu dan ruang suatu algoritma bergantung pada ukuran masukan (n), yang menyatakan jumlah data yang dip roses. Efisiensi algoritma dapat digunakan untuk menilai algoritma yang terabit. Mengapa Kita Memerlukan Algoritma yang Efisien ?\n",
    "\n",
    "Model Perhitungan Kebutuhan Waktu/Ruang\n",
    "Kita dapat mengukur waktu yang diperlukan oleh sebuah algoritma dengan menghitung banyaknya operasi/instruksi yang dieksekusi.\n",
    "Jika kita mengetahui besaran waktu (dalam satuan detik) untuk melaksanakan sebuah operasi tertentu, maka kita dapat menghitung berapa waktu sesungguhnya untuk melaksanakan algoritma tersebut."
   ]
  },
  {
   "cell_type": "markdown",
   "id": "hired-legislature",
   "metadata": {},
   "source": [
    "Contoh 1. Menghitung ratarata\n",
    "a1\ta2\ta3\t…\tan\n",
    "Array/Larik bilangan bulat\n",
    "\n",
    "a. Operasi pengisian nilai (jumlah=0,  k=1, jumlah=jumlah+ak, k=k+1, dan r =jumlah/n). Jumlah seluruh operasi pengisian nilai adalah  t1 = 1 + 1 + n + n + 1 = 3 + 2n\n",
    "\n",
    "b. Operasi penjumlahan (jumlah+ak, dan k+1).  Jumlah seluruh operasi penjumlahan adalah  t2 =  n + n = 2n\n",
    "\n",
    "c.  Operasi pembagian (jumlah/n). Jumlah seluruh operasi pembagian adalah  t3 = 1\n",
    "\n",
    "Total kebutuhan waktu algoritma HitungRataRata:     t = t_1 + t2 + t3 = (3 + 2n)a + 2nb + c  detik\n",
    "\n",
    "Model perhitungan kebutuhan waktu seperti di atas kurang dapat diterima:\n",
    "\n",
    "Dalam praktek kita tidak mempunyai informasi berapa waktu sesungguhnya untuk melaksanakan suatu operasi tertentu\n",
    "Komputer dengan arsitektur yang berbeda akan berbeda pula lama waktu untuk setiap jenis operasinya.\n",
    "Selain bergantung pada komputer, kebutuhan waktu sebuah program juga ditentukan oleh compiler bahasa yang digunakan.\n",
    "\n",
    "Model abstrak pengukuran waktu/ruang harus independen dari pertimbangan mesin dan compiler\n",
    "\n",
    "Besaran yang dipakai untuk menerangkan model abstrak pengukuran waktu/ruang ini adalah kompleksitas algoritma.\n",
    "\n",
    "Ada dua macam kompleksitas algoritma, yaitu kompleksitas waktu dan kompleksitas ruang.\n",
    "\n",
    "Kompleksitas waktu, T(n), diukur dari jumlah tahapan komputasi yang dibutuhkan untuk menjalankan algoritma sebagai fungsi dari ukuran masukan n.\n",
    "Kompleksitas ruang, S(n), diukur dari memori yang digunakan oleh struktur data yang terdapat di dalam algoritma sebagai fungsi dari ukuran masukan n.\n",
    "Dengan menggunakan besaran kompleksitas waktu/ruang algoritma, kita dapat menentukan laju peningkatan waktu (ruang) yang diperlukan algoritma dengan meningkatnya ukuran masukan n."
   ]
  },
  {
   "cell_type": "code",
   "execution_count": null,
   "id": "active-spotlight",
   "metadata": {},
   "outputs": [],
   "source": []
  }
 ],
 "metadata": {
  "kernelspec": {
   "display_name": "Python 3",
   "language": "python",
   "name": "python3"
  },
  "language_info": {
   "codemirror_mode": {
    "name": "ipython",
    "version": 3
   },
   "file_extension": ".py",
   "mimetype": "text/x-python",
   "name": "python",
   "nbconvert_exporter": "python",
   "pygments_lexer": "ipython3",
   "version": "3.7.9"
  }
 },
 "nbformat": 4,
 "nbformat_minor": 5
}
