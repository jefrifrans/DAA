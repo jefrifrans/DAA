{
 "cells": [
  {
   "cell_type": "code",
   "execution_count": 4,
   "id": "asian-berlin",
   "metadata": {},
   "outputs": [
    {
     "name": "stdin",
     "output_type": "stream",
     "text": [
      "masukkan panjang bilangan :  10\n"
     ]
    },
    {
     "name": "stdout",
     "output_type": "stream",
     "text": [
      "array sebelum insertionSort\n",
      "[4, 1, 7, 13, 18, 8, 16, 9, 15, 6]\n",
      "array setelah insertionSort  : \n",
      "[1, 4, 6, 7, 8, 9, 13, 15, 16, 18]\n",
      "--- 2.7319869995117188 seconds ---\n"
     ]
    }
   ],
   "source": [
    "import random \n",
    "import time\n",
    "start_time = time.time()\n",
    "def insertionSort(array):\n",
    "    for i in range(1,n):\n",
    "        key =array[i]\n",
    "        \n",
    "        j= i-1\n",
    "        while j>=0 and key<array[j]:\n",
    "            array[j+1] = array[j]\n",
    "            j -= 1\n",
    "            array[j+1]=key\n",
    "if __name__ == '__main__':\n",
    "    n = int(input('Masukkan panjang bilangan : '))\n",
    "    array=random.sample(range(2*n),n)\n",
    "    print('array sebelum insertionSort')\n",
    "    print(array)\n",
    "    \n",
    "    insertionSort(array)\n",
    "    print('array setelah insertionSort  : ')\n",
    "    print(array)\n",
    "    \n",
    "    print(\"--- %s seconds ---\" % (time.time() - start_time))"
   ]
  },
  {
   "cell_type": "code",
   "execution_count": null,
   "id": "olympic-mouse",
   "metadata": {},
   "outputs": [],
   "source": []
  }
 ],
 "metadata": {
  "kernelspec": {
   "display_name": "Python 3",
   "language": "python",
   "name": "python3"
  },
  "language_info": {
   "codemirror_mode": {
    "name": "ipython",
    "version": 3
   },
   "file_extension": ".py",
   "mimetype": "text/x-python",
   "name": "python",
   "nbconvert_exporter": "python",
   "pygments_lexer": "ipython3",
   "version": "3.7.9"
  }
 },
 "nbformat": 4,
 "nbformat_minor": 5
}
