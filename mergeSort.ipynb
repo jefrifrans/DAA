{
 "cells": [
  {
   "cell_type": "markdown",
   "id": "specific-positive",
   "metadata": {},
   "source": [
    "# Penjelasan algoritma dari mergesort\n",
    "algoritma mergesort ditemukan oleh john von neuman pada tahun 1945.Algoritma pengurutan merge sort dilakukan dengan menggunakan cara divide and conquer sama seperti quick short yaitu dengan memecah kemudian menyelesaikan setiap bagian kemudian menggabungkannya kembali. Pertama data dipecah menjadi 2 bagian dimana bagian pertama merupakan setengah (jika data genap) atau setengah minus satu (jika data ganjil) dari seluruh data, kemudian dilakukan pemecahan kembali untuk masing-masing blok sampai hanya terdiri dari satu data tiap blok.\n"
   ]
  },
  {
   "cell_type": "code",
   "execution_count": 43,
   "id": "negative-swaziland",
   "metadata": {},
   "outputs": [
    {
     "name": "stdin",
     "output_type": "stream",
     "text": [
      "Masukkan panjang data =  10\n"
     ]
    },
    {
     "name": "stdout",
     "output_type": "stream",
     "text": [
      "[15, 13, 6, 12, 3, 0, 18, 19, 8, 2] \n",
      "\n",
      "\n",
      "array setelah mergesort\n",
      "0 2 3 6 8 12 13 15 18 19 \n",
      "--- 2.6438512802124023 seconds ---\n"
     ]
    }
   ],
   "source": [
    "#import library python\n",
    "import random\n",
    "import time\n",
    "start_time = time.time()\n",
    "\n",
    "def mergeSort(array):\n",
    "    if len(array) > 1:\n",
    "        #cari nilai tengah\n",
    "        i_tengah = len(array)//2\n",
    "        \n",
    "        #bagi array menjadi dua bagian yaitu kiri dan kananv(L, R)\n",
    "        #array kiri\n",
    "        kiri = array[:i_tengah]\n",
    "        \n",
    "        #array kanan\n",
    "        kanan = array[i_tengah:]\n",
    "        \n",
    "        #mergeShort bagian kiri dan kanan\n",
    "        #array kiri\n",
    "        mergeSort(kiri)\n",
    "        \n",
    "        #array kanan\n",
    "        mergeSort(kanan)\n",
    "        \n",
    "        i=j=k=0\n",
    "        # Copy data to temp arrays L[] and R[]\n",
    "        while i < len(kiri) and j < len(kanan):\n",
    "            if kiri[i] < kanan[j]:\n",
    "                array[k] = kiri[i]\n",
    "                i += 1\n",
    "            else:\n",
    "                array[k] = kanan[j]\n",
    "                j+= 1\n",
    "            k += 1\n",
    "        while i < len(kiri):\n",
    "            array[k] = kiri[i]\n",
    "            i +=1\n",
    "            k +=1\n",
    "        while j < len(kanan):\n",
    "            array[k]=kanan[j]\n",
    "            j +=1\n",
    "            k +=1\n",
    "def printList(array):\n",
    "    for i in range(len(array)):\n",
    "        print(array[i], end=' ')\n",
    "        \n",
    "        \n",
    "if __name__ == '__main__':\n",
    "    n = int(input(\"Masukkan panjang data = \"))\n",
    "    array = random.sample(range(2*n),n)\n",
    "    print(array,'\\n')\n",
    "    \n",
    "    mergeSort(array)\n",
    "    print(\"\\narray setelah mergesort\", end='\\n')\n",
    "    printList(array)\n",
    "    print()\n",
    "    print(\"--- %s seconds ---\" % (time.time() - start_time))"
   ]
  },
  {
   "cell_type": "code",
   "execution_count": null,
   "id": "significant-midnight",
   "metadata": {},
   "outputs": [],
   "source": []
  }
 ],
 "metadata": {
  "kernelspec": {
   "display_name": "Python 3",
   "language": "python",
   "name": "python3"
  },
  "language_info": {
   "codemirror_mode": {
    "name": "ipython",
    "version": 3
   },
   "file_extension": ".py",
   "mimetype": "text/x-python",
   "name": "python",
   "nbconvert_exporter": "python",
   "pygments_lexer": "ipython3",
   "version": "3.7.9"
  }
 },
 "nbformat": 4,
 "nbformat_minor": 5
}
